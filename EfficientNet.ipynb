{
 "cells": [
  {
   "cell_type": "markdown",
   "id": "e77f242b",
   "metadata": {},
   "source": [
    "# Bone Fracture Prediction using EfficientNet"
   ]
  },
  {
   "cell_type": "code",
   "execution_count": 1,
   "id": "4ae3ffd8",
   "metadata": {},
   "outputs": [],
   "source": [
    "import tensorflow as tf\n",
    "from tensorflow.keras import layers\n",
    "from skimage.io import imshow\n",
    "from pathlib import Path\n",
    "import pandas as pd\n",
    "import cv2\n",
    "import keras\n",
    "import visualkeras\n",
    "from keras import layers\n",
    "from keras.preprocessing import image\n",
    "import matplotlib.pyplot as plt"
   ]
  },
  {
   "cell_type": "code",
   "execution_count": 2,
   "id": "8531c1fd",
   "metadata": {},
   "outputs": [
    {
     "name": "stdout",
     "output_type": "stream",
     "text": [
      "GPU is available\n"
     ]
    }
   ],
   "source": [
    "gpu = len(tf.config.list_physical_devices('GPU'))>0\n",
    "print(\"GPU is\", \"available\" if gpu else \"NOT AVAILABLE\")"
   ]
  },
  {
   "cell_type": "code",
   "execution_count": 3,
   "id": "c3a7c3d2",
   "metadata": {
    "scrolled": false
   },
   "outputs": [
    {
     "data": {
      "text/html": [
       "<div>\n",
       "<style scoped>\n",
       "    .dataframe tbody tr th:only-of-type {\n",
       "        vertical-align: middle;\n",
       "    }\n",
       "\n",
       "    .dataframe tbody tr th {\n",
       "        vertical-align: top;\n",
       "    }\n",
       "\n",
       "    .dataframe thead th {\n",
       "        text-align: right;\n",
       "    }\n",
       "</style>\n",
       "<table border=\"1\" class=\"dataframe\">\n",
       "  <thead>\n",
       "    <tr style=\"text-align: right;\">\n",
       "      <th></th>\n",
       "      <th>filepath</th>\n",
       "      <th>fracture_visible</th>\n",
       "    </tr>\n",
       "  </thead>\n",
       "  <tbody>\n",
       "    <tr>\n",
       "      <th>0</th>\n",
       "      <td>4799_0658553478_01_WRI-L1_M010.png</td>\n",
       "      <td>negative</td>\n",
       "    </tr>\n",
       "    <tr>\n",
       "      <th>1</th>\n",
       "      <td>5162_0861552910_02_WRI-L1_M009.png</td>\n",
       "      <td>positive</td>\n",
       "    </tr>\n",
       "    <tr>\n",
       "      <th>2</th>\n",
       "      <td>4625_1025941493_01_WRI-L1_F013.png</td>\n",
       "      <td>negative</td>\n",
       "    </tr>\n",
       "    <tr>\n",
       "      <th>3</th>\n",
       "      <td>3480_0970508877_01_WRI-L1_M002.png</td>\n",
       "      <td>negative</td>\n",
       "    </tr>\n",
       "    <tr>\n",
       "      <th>4</th>\n",
       "      <td>1678_0728816906_01_WRI-R1_F014.png</td>\n",
       "      <td>negative</td>\n",
       "    </tr>\n",
       "    <tr>\n",
       "      <th>...</th>\n",
       "      <td>...</td>\n",
       "      <td>...</td>\n",
       "    </tr>\n",
       "    <tr>\n",
       "      <th>6984</th>\n",
       "      <td>0218_0891252457_02_WRI-R1_F008.png</td>\n",
       "      <td>negative</td>\n",
       "    </tr>\n",
       "    <tr>\n",
       "      <th>6985</th>\n",
       "      <td>2758_0965409258_01_WRI-L1_M010.png</td>\n",
       "      <td>negative</td>\n",
       "    </tr>\n",
       "    <tr>\n",
       "      <th>6986</th>\n",
       "      <td>2808_0822762579_01_WRI-R1_F007.png</td>\n",
       "      <td>negative</td>\n",
       "    </tr>\n",
       "    <tr>\n",
       "      <th>6987</th>\n",
       "      <td>3120_0954856066_01_WRI-L1_M012.png</td>\n",
       "      <td>negative</td>\n",
       "    </tr>\n",
       "    <tr>\n",
       "      <th>6988</th>\n",
       "      <td>1469_0597634364_01_WRI-L1_M006.png</td>\n",
       "      <td>positive</td>\n",
       "    </tr>\n",
       "  </tbody>\n",
       "</table>\n",
       "<p>6989 rows × 2 columns</p>\n",
       "</div>"
      ],
      "text/plain": [
       "                                filepath fracture_visible\n",
       "0     4799_0658553478_01_WRI-L1_M010.png         negative\n",
       "1     5162_0861552910_02_WRI-L1_M009.png         positive\n",
       "2     4625_1025941493_01_WRI-L1_F013.png         negative\n",
       "3     3480_0970508877_01_WRI-L1_M002.png         negative\n",
       "4     1678_0728816906_01_WRI-R1_F014.png         negative\n",
       "...                                  ...              ...\n",
       "6984  0218_0891252457_02_WRI-R1_F008.png         negative\n",
       "6985  2758_0965409258_01_WRI-L1_M010.png         negative\n",
       "6986  2808_0822762579_01_WRI-R1_F007.png         negative\n",
       "6987  3120_0954856066_01_WRI-L1_M012.png         negative\n",
       "6988  1469_0597634364_01_WRI-L1_M006.png         positive\n",
       "\n",
       "[6989 rows x 2 columns]"
      ]
     },
     "execution_count": 3,
     "metadata": {},
     "output_type": "execute_result"
    }
   ],
   "source": [
    "# Reading the files\n",
    "fractured_df = pd.read_csv('./dataset_only_fractures.csv')\n",
    "non_fractured_df = pd.read_csv('./dataset_without_fractures.csv')\n",
    "\n",
    "# Adding a filepath column to the dataframes\n",
    "fractured_df['filepath'] = fractured_df['filestem'] + '.png'\n",
    "non_fractured_df['filepath'] = non_fractured_df['filestem'] + '.png'\n",
    "\n",
    "#Selecting only the required columns\n",
    "fractured_df = fractured_df[['filepath', 'fracture_visible']]\n",
    "non_fractured_df = non_fractured_df[['filepath', 'fracture_visible']]\n",
    "\n",
    "# Modifying and replacing the NaN values\n",
    "fractured_df['fracture_visible'] = \"positive\"\n",
    "non_fractured_df['fracture_visible'] = \"negative\"\n",
    "\n",
    "# Creating the final dataframe with all the values sampled randomly\n",
    "df = pd.concat([fractured_df, non_fractured_df], axis = 0)\n",
    "df = df.sample(frac = 1, random_state = 42)\n",
    "df.reset_index(drop = True, inplace = True)\n",
    "\n",
    "# Displaying the processed dataframe\n",
    "df"
   ]
  },
  {
   "cell_type": "code",
   "execution_count": 4,
   "id": "09765329",
   "metadata": {},
   "outputs": [],
   "source": [
    "from sklearn.model_selection import train_test_split\n",
    "train_ratio = 0.6\n",
    "validation_ratio = 0.2\n",
    "test_ratio = 0.2\n",
    "\n",
    "# Splitting into train_data and temp_data\n",
    "train_data, temp_data = train_test_split(df, test_size=1 - train_ratio, random_state=42)\n",
    "# Splitting temp_data into validation_data and test_data\n",
    "validation_data, test_data = train_test_split(temp_data, test_size=test_ratio / (test_ratio + validation_ratio), random_state=42)"
   ]
  },
  {
   "cell_type": "code",
   "execution_count": 5,
   "id": "144f342c",
   "metadata": {},
   "outputs": [
    {
     "name": "stdout",
     "output_type": "stream",
     "text": [
      "(4193, 2)\n",
      "(1398, 2)\n",
      "(1398, 2)\n"
     ]
    }
   ],
   "source": [
    "print(train_data.shape)\n",
    "print(validation_data.shape)\n",
    "print(test_data.shape)"
   ]
  },
  {
   "cell_type": "code",
   "execution_count": 6,
   "id": "73ffae7b",
   "metadata": {},
   "outputs": [
    {
     "name": "stdout",
     "output_type": "stream",
     "text": [
      "/Users/riyavardhan/Downloads/Fracture_dataset\r\n"
     ]
    }
   ],
   "source": [
    "import os\n",
    "!pwd"
   ]
  },
  {
   "cell_type": "code",
   "execution_count": 7,
   "id": "72b46ea5",
   "metadata": {},
   "outputs": [
    {
     "name": "stdout",
     "output_type": "stream",
     "text": [
      "Found 4193 validated image filenames belonging to 2 classes.\n",
      "Found 1398 validated image filenames belonging to 2 classes.\n",
      "Found 1398 validated image filenames belonging to 2 classes.\n"
     ]
    }
   ],
   "source": [
    "image_datagen = image.ImageDataGenerator(\n",
    "    rescale=1.0 / 255,\n",
    "    rotation_range=30,\n",
    "    shear_range=0.2,\n",
    "    zoom_range=0.2,\n",
    "    horizontal_flip=True,\n",
    "    fill_mode='nearest',\n",
    "    width_shift_range=0.1,\n",
    "    height_shift_range=0.1,\n",
    ")\n",
    "\n",
    "batch_size_val = 32\n",
    "dataset_root = '/Users/riyavardhan/Downloads/Fracture_dataset/images/'\n",
    "\n",
    "train_ds = image_datagen.flow_from_dataframe(\n",
    "    dataframe = train_data,\n",
    "    directory = dataset_root,\n",
    "    x_col = 'filepath',\n",
    "    y_col = 'fracture_visible',\n",
    "    target_size = (224,224),\n",
    "    batch_size = batch_size_val,\n",
    "    class_mode = 'binary', \n",
    "    color_mode = 'grayscale',\n",
    "    subset='training',\n",
    "    shuffle=True,\n",
    "    seed = 42\n",
    ")\n",
    "\n",
    "val_ds = image_datagen.flow_from_dataframe(\n",
    "    dataframe = validation_data,\n",
    "    directory = dataset_root,\n",
    "    x_col = 'filepath', \n",
    "    y_col = 'fracture_visible',\n",
    "    target_size = (224,224),\n",
    "    batch_size = batch_size_val,\n",
    "    class_mode = 'binary',\n",
    "    color_mode = 'grayscale',\n",
    "    shuffle = False\n",
    ")\n",
    "\n",
    "test_ds = image_datagen.flow_from_dataframe(\n",
    "    dataframe = test_data,\n",
    "    directory = dataset_root,\n",
    "    x_col = 'filepath', \n",
    "    y_col = 'fracture_visible',\n",
    "    target_size = (224,224),\n",
    "    batch_size = batch_size_val,\n",
    "    class_mode = 'binary',\n",
    "    color_mode = 'grayscale',\n",
    "    shuffle = False\n",
    ")"
   ]
  },
  {
   "cell_type": "code",
   "execution_count": 8,
   "id": "a5d82087",
   "metadata": {},
   "outputs": [],
   "source": [
    "from keras.applications import EfficientNetB0\n",
    "from keras.models import Sequential\n",
    "from keras.layers import Dense, GlobalAveragePooling2D\n",
    "from keras.optimizers import Adam\n",
    "from keras.preprocessing.image import ImageDataGenerator\n",
    "from keras.callbacks import ModelCheckpoint"
   ]
  },
  {
   "cell_type": "code",
   "execution_count": 9,
   "id": "3dda82e5",
   "metadata": {},
   "outputs": [],
   "source": [
    "base_model = EfficientNetB0(weights='imagenet', include_top=False)"
   ]
  },
  {
   "cell_type": "code",
   "execution_count": 10,
   "id": "b32e06a6",
   "metadata": {},
   "outputs": [],
   "source": [
    "model = Sequential()\n",
    "model.add(base_model)\n",
    "model.add(GlobalAveragePooling2D())\n",
    "model.add(Dense(256, activation='relu'))\n",
    "model.add(Dense(1, activation='sigmoid'))"
   ]
  },
  {
   "cell_type": "code",
   "execution_count": 11,
   "id": "841475be",
   "metadata": {},
   "outputs": [],
   "source": [
    "model.compile(loss='binary_crossentropy', optimizer=Adam(learning_rate=0.0001), metrics=['accuracy'])"
   ]
  },
  {
   "cell_type": "code",
   "execution_count": 12,
   "id": "49cd5d0f",
   "metadata": {},
   "outputs": [
    {
     "name": "stdout",
     "output_type": "stream",
     "text": [
      "Epoch 1/20\n",
      "132/132 [==============================] - 186s 1s/step - loss: 0.5523 - accuracy: 0.7140 - val_loss: 0.4438 - val_accuracy: 0.7840\n",
      "Epoch 2/20\n",
      "132/132 [==============================] - 59s 445ms/step - loss: 0.3918 - accuracy: 0.8235 - val_loss: 0.3626 - val_accuracy: 0.8441\n",
      "Epoch 3/20\n",
      "132/132 [==============================] - 59s 447ms/step - loss: 0.3396 - accuracy: 0.8509 - val_loss: 0.3938 - val_accuracy: 0.8062\n",
      "Epoch 4/20\n",
      "132/132 [==============================] - 62s 472ms/step - loss: 0.3042 - accuracy: 0.8712 - val_loss: 0.3104 - val_accuracy: 0.8662\n",
      "Epoch 5/20\n",
      "132/132 [==============================] - 65s 490ms/step - loss: 0.2900 - accuracy: 0.8743 - val_loss: 0.3195 - val_accuracy: 0.8562\n",
      "Epoch 6/20\n",
      "132/132 [==============================] - 65s 489ms/step - loss: 0.2688 - accuracy: 0.8853 - val_loss: 0.2879 - val_accuracy: 0.8770\n",
      "Epoch 7/20\n",
      "132/132 [==============================] - 64s 484ms/step - loss: 0.2595 - accuracy: 0.8877 - val_loss: 0.2835 - val_accuracy: 0.8827\n",
      "Epoch 8/20\n",
      "132/132 [==============================] - 63s 477ms/step - loss: 0.2485 - accuracy: 0.9001 - val_loss: 0.2928 - val_accuracy: 0.8791\n",
      "Epoch 9/20\n",
      "132/132 [==============================] - 62s 466ms/step - loss: 0.2407 - accuracy: 0.8989 - val_loss: 0.2608 - val_accuracy: 0.8963\n",
      "Epoch 10/20\n",
      "132/132 [==============================] - 62s 470ms/step - loss: 0.2206 - accuracy: 0.9141 - val_loss: 0.2734 - val_accuracy: 0.8877\n",
      "Epoch 11/20\n",
      "132/132 [==============================] - 62s 472ms/step - loss: 0.2111 - accuracy: 0.9118 - val_loss: 0.2822 - val_accuracy: 0.8920\n",
      "Epoch 12/20\n",
      "132/132 [==============================] - 61s 461ms/step - loss: 0.2100 - accuracy: 0.9063 - val_loss: 0.3184 - val_accuracy: 0.8755\n",
      "Epoch 13/20\n",
      "132/132 [==============================] - 62s 466ms/step - loss: 0.2070 - accuracy: 0.9158 - val_loss: 0.2965 - val_accuracy: 0.8863\n",
      "Epoch 14/20\n",
      "132/132 [==============================] - 60s 454ms/step - loss: 0.1865 - accuracy: 0.9211 - val_loss: 0.2725 - val_accuracy: 0.8991\n",
      "Epoch 15/20\n",
      "132/132 [==============================] - 60s 452ms/step - loss: 0.1894 - accuracy: 0.9201 - val_loss: 0.3039 - val_accuracy: 0.8927\n",
      "Epoch 16/20\n",
      "132/132 [==============================] - 61s 458ms/step - loss: 0.1862 - accuracy: 0.9268 - val_loss: 0.3046 - val_accuracy: 0.8999\n",
      "Epoch 17/20\n",
      "132/132 [==============================] - 60s 450ms/step - loss: 0.1776 - accuracy: 0.9282 - val_loss: 0.3476 - val_accuracy: 0.8763\n",
      "Epoch 18/20\n",
      "132/132 [==============================] - 60s 453ms/step - loss: 0.1628 - accuracy: 0.9325 - val_loss: 0.2670 - val_accuracy: 0.8963\n",
      "Epoch 19/20\n",
      "132/132 [==============================] - 60s 455ms/step - loss: 0.1577 - accuracy: 0.9323 - val_loss: 0.3252 - val_accuracy: 0.8913\n",
      "Epoch 20/20\n",
      "132/132 [==============================] - 60s 453ms/step - loss: 0.1499 - accuracy: 0.9389 - val_loss: 0.3306 - val_accuracy: 0.8941\n"
     ]
    }
   ],
   "source": [
    "num_epochs = 20\n",
    "history = model.fit(train_ds, validation_data=val_ds, epochs=num_epochs)"
   ]
  },
  {
   "cell_type": "code",
   "execution_count": 13,
   "id": "77ee2a46",
   "metadata": {},
   "outputs": [
    {
     "name": "stdout",
     "output_type": "stream",
     "text": [
      "44/44 [==============================] - 15s 329ms/step - loss: 0.3142 - accuracy: 0.8848\n"
     ]
    }
   ],
   "source": [
    "test_loss, test_accuracy = model.evaluate(test_ds)"
   ]
  },
  {
   "cell_type": "code",
   "execution_count": 14,
   "id": "7be77bc0",
   "metadata": {},
   "outputs": [
    {
     "data": {
      "image/png": "[encoded data removed]",
      "text/plain": [
       "<Figure size 864x288 with 2 Axes>"
      ]
     },
     "metadata": {
      "needs_background": "light"
     },
     "output_type": "display_data"
    },
    {
     "data": {
      "text/plain": [
       "<Figure size 432x288 with 0 Axes>"
      ]
     },
     "metadata": {},
     "output_type": "display_data"
    }
   ],
   "source": [
    "plt.figure(figsize=(12, 4))\n",
    "\n",
    "# Plot Training & Validation Accuracy\n",
    "plt.subplot(1, 2, 1)\n",
    "plt.plot(history.history['accuracy'], label='Training Accuracy')\n",
    "plt.plot(history.history['val_accuracy'], label='Validation Accuracy')\n",
    "plt.title('Training and Validation Accuracy')\n",
    "plt.xlabel('Epoch')\n",
    "plt.ylabel('Accuracy')\n",
    "plt.legend()\n",
    "\n",
    "# Plot Training & Validation Loss\n",
    "plt.subplot(1, 2, 2)\n",
    "plt.plot(history.history['loss'], label='Training Loss')\n",
    "plt.plot(history.history['val_loss'], label='Validation Loss')\n",
    "plt.title('Training and Validation Loss')\n",
    "plt.xlabel('Epoch')\n",
    "plt.ylabel('Loss')\n",
    "plt.legend()\n",
    "\n",
    "plt.tight_layout()\n",
    "plt.show()\n",
    "plt.savefig('training_plots.png')"
   ]
  },
  {
   "cell_type": "code",
   "execution_count": 15,
   "id": "1c47b856",
   "metadata": {},
   "outputs": [],
   "source": [
    "from sklearn.metrics import confusion_matrix, classification_report\n",
    "import seaborn as sns"
   ]
  },
  {
   "cell_type": "code",
   "execution_count": 16,
   "id": "40791d63",
   "metadata": {},
   "outputs": [
    {
     "name": "stdout",
     "output_type": "stream",
     "text": [
      "44/44 [==============================] - 38s 599ms/step\n"
     ]
    }
   ],
   "source": [
    "y_pred = model.predict(test_ds).flatten()  \n",
    "y_pred_binary = (y_pred > 0.5).astype(int) "
   ]
  },
  {
   "cell_type": "code",
   "execution_count": 17,
   "id": "f886f221",
   "metadata": {},
   "outputs": [
    {
     "name": "stdout",
     "output_type": "stream",
     "text": [
      "Confusion Matrix:\n",
      "[[628  39]\n",
      " [120 611]]\n"
     ]
    }
   ],
   "source": [
    "cm = confusion_matrix(test_ds.classes, y_pred_binary)\n",
    "print(\"Confusion Matrix:\")\n",
    "print(cm)"
   ]
  },
  {
   "cell_type": "code",
   "execution_count": 19,
   "id": "e3bceed8",
   "metadata": {},
   "outputs": [
    {
     "data": {
      "image/png": "[encoded data removed]",
      "text/plain": [
       "<Figure size 432x288 with 2 Axes>"
      ]
     },
     "metadata": {
      "needs_background": "light"
     },
     "output_type": "display_data"
    }
   ],
   "source": [
    "labels = ['Positive', 'Negative'] \n",
    "plt.figure(figsize=(6, 4))\n",
    "sns.heatmap(cm, annot=True, fmt=\"d\", cmap=\"Blues\", xticklabels=labels, yticklabels=labels)\n",
    "plt.xlabel('Predicted')\n",
    "plt.ylabel('Actual')\n",
    "plt.title('Confusion Matrix')\n",
    "plt.show()"
   ]
  },
  {
   "cell_type": "code",
   "execution_count": 20,
   "id": "577f5cc3",
   "metadata": {},
   "outputs": [
    {
     "name": "stdout",
     "output_type": "stream",
     "text": [
      "Classification Report:\n",
      "              precision    recall  f1-score   support\n",
      "\n",
      "    Positive       0.84      0.94      0.89       667\n",
      "    Negative       0.94      0.84      0.88       731\n",
      "\n",
      "    accuracy                           0.89      1398\n",
      "   macro avg       0.89      0.89      0.89      1398\n",
      "weighted avg       0.89      0.89      0.89      1398\n",
      "\n"
     ]
    }
   ],
   "source": [
    "report = classification_report(test_ds.classes, y_pred_binary, target_names=labels)\n",
    "print(\"Classification Report:\")\n",
    "print(report)"
   ]
  }
 ],
 "metadata": {
  "kernelspec": {
   "display_name": "Python 3",
   "language": "python",
   "name": "python3"
  },
  "language_info": {
   "codemirror_mode": {
    "name": "ipython",
    "version": 3
   },
   "file_extension": ".py",
   "mimetype": "text/x-python",
   "name": "python",
   "nbconvert_exporter": "python",
   "pygments_lexer": "ipython3",
   "version": "3.8.18"
  }
 },
 "nbformat": 4,
 "nbformat_minor": 5
}
